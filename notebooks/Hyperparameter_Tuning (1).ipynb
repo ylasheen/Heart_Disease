{
  "nbformat": 4,
  "nbformat_minor": 0,
  "metadata": {
    "colab": {
      "provenance": []
    },
    "kernelspec": {
      "name": "python3",
      "display_name": "Python 3"
    },
    "language_info": {
      "name": "python"
    }
  },
  "cells": [
    {
      "cell_type": "code",
      "execution_count": 4,
      "metadata": {
        "colab": {
          "base_uri": "https://localhost:8080/"
        },
        "id": "v7j7xgqQfMzJ",
        "outputId": "6c4abcd7-da0b-4378-b6ec-5d538da754ef"
      },
      "outputs": [
        {
          "output_type": "stream",
          "name": "stdout",
          "text": [
            "✅ أفضل باراميترز: {'C': 1, 'penalty': 'l1', 'solver': 'liblinear'}\n",
            "📈 أفضل ROC-AUC (CV): 0.8876777811560421\n",
            "🎯 ROC-AUC على Test Set: 0.9307359307359307\n",
            "💾 تم حفظ الموديل في models/final_model.pkl\n"
          ]
        }
      ],
      "source": [
        "# ===== Step 4: Hyperparameter Tuning for Logistic Regression =====\n",
        "import pandas as pd\n",
        "from sklearn.model_selection import train_test_split, GridSearchCV\n",
        "from sklearn.linear_model import LogisticRegression\n",
        "from sklearn.metrics import roc_auc_score\n",
        "import joblib\n",
        "\n",
        "# تحميل البيانات النظيفة\n",
        "df = pd.read_csv(\"/content/heart_disease_clean.csv\")\n",
        "selected_features = ['thalach', 'thal', 'cp', 'ca', 'oldpeak']\n",
        "\n",
        "X = df[selected_features]\n",
        "y = df['target']\n",
        "\n",
        "X_train, X_test, y_train, y_test = train_test_split(X, y, test_size=0.2, random_state=42, stratify=y)\n",
        "\n",
        "# إعداد GridSearchCV\n",
        "param_grid = {\n",
        "    'C': [0.01, 0.1, 1, 10],\n",
        "    'penalty': ['l1', 'l2'],\n",
        "    'solver': ['liblinear']  # liblinear يدعم l1 و l2\n",
        "}\n",
        "\n",
        "grid = GridSearchCV(LogisticRegression(max_iter=1000),\n",
        "                    param_grid,\n",
        "                    cv=5,\n",
        "                    scoring='roc_auc',\n",
        "                    n_jobs=-1)\n",
        "\n",
        "grid.fit(X_train, y_train)\n",
        "\n",
        "print(\"✅ أفضل باراميترز:\", grid.best_params_)\n",
        "print(\"📈 أفضل ROC-AUC (CV):\", grid.best_score_)\n",
        "\n",
        "# تقييم على test set\n",
        "best_model = grid.best_estimator_\n",
        "y_prob = best_model.predict_proba(X_test)[:,1]\n",
        "print(\"🎯 ROC-AUC على Test Set:\", roc_auc_score(y_test, y_prob))\n",
        "import os\n",
        "os.makedirs(\"models\", exist_ok=True)  # لو الفولدر مش موجود هيعمله\n",
        "\n",
        "# حفظ الموديل النهائي\n",
        "joblib.dump(best_model, \"models/final_model.pkl\")\n",
        "print(\"💾 تم حفظ الموديل في models/final_model.pkl\")\n"
      ]
    },
    {
      "cell_type": "code",
      "source": [
        "import joblib\n",
        "loaded_model = joblib.load(\"models/final_model.pkl\")\n",
        "print(\"✅ الموديل اتحمل بنجاح من الملف!\")\n",
        "print(\"🔍 نوع الموديل:\", type(loaded_model))\n"
      ],
      "metadata": {
        "colab": {
          "base_uri": "https://localhost:8080/"
        },
        "id": "-wkR9NW9kODy",
        "outputId": "99039913-785f-48c5-bf26-e9b0a5ccf3d9"
      },
      "execution_count": 5,
      "outputs": [
        {
          "output_type": "stream",
          "name": "stdout",
          "text": [
            "✅ الموديل اتحمل بنجاح من الملف!\n",
            "🔍 نوع الموديل: <class 'sklearn.linear_model._logistic.LogisticRegression'>\n"
          ]
        }
      ]
    },
    {
      "cell_type": "code",
      "source": [
        "from google.colab import files\n",
        "files.download(\"models/final_model.pkl\")"
      ],
      "metadata": {
        "colab": {
          "base_uri": "https://localhost:8080/",
          "height": 17
        },
        "id": "PAAro6dUkqTz",
        "outputId": "b096f6ec-275d-4d81-c40f-4ab3893dedba"
      },
      "execution_count": 6,
      "outputs": [
        {
          "output_type": "display_data",
          "data": {
            "text/plain": [
              "<IPython.core.display.Javascript object>"
            ],
            "application/javascript": [
              "\n",
              "    async function download(id, filename, size) {\n",
              "      if (!google.colab.kernel.accessAllowed) {\n",
              "        return;\n",
              "      }\n",
              "      const div = document.createElement('div');\n",
              "      const label = document.createElement('label');\n",
              "      label.textContent = `Downloading \"${filename}\": `;\n",
              "      div.appendChild(label);\n",
              "      const progress = document.createElement('progress');\n",
              "      progress.max = size;\n",
              "      div.appendChild(progress);\n",
              "      document.body.appendChild(div);\n",
              "\n",
              "      const buffers = [];\n",
              "      let downloaded = 0;\n",
              "\n",
              "      const channel = await google.colab.kernel.comms.open(id);\n",
              "      // Send a message to notify the kernel that we're ready.\n",
              "      channel.send({})\n",
              "\n",
              "      for await (const message of channel.messages) {\n",
              "        // Send a message to notify the kernel that we're ready.\n",
              "        channel.send({})\n",
              "        if (message.buffers) {\n",
              "          for (const buffer of message.buffers) {\n",
              "            buffers.push(buffer);\n",
              "            downloaded += buffer.byteLength;\n",
              "            progress.value = downloaded;\n",
              "          }\n",
              "        }\n",
              "      }\n",
              "      const blob = new Blob(buffers, {type: 'application/binary'});\n",
              "      const a = document.createElement('a');\n",
              "      a.href = window.URL.createObjectURL(blob);\n",
              "      a.download = filename;\n",
              "      div.appendChild(a);\n",
              "      a.click();\n",
              "      div.remove();\n",
              "    }\n",
              "  "
            ]
          },
          "metadata": {}
        },
        {
          "output_type": "display_data",
          "data": {
            "text/plain": [
              "<IPython.core.display.Javascript object>"
            ],
            "application/javascript": [
              "download(\"download_6edb9cfd-6f1e-494c-a94f-2bf5e919ce8a\", \"final_model.pkl\", 1211)"
            ]
          },
          "metadata": {}
        }
      ]
    }
  ]
}